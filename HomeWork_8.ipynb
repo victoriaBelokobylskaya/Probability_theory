{
 "cells": [
  {
   "cell_type": "markdown",
   "metadata": {},
   "source": [
    "__Задача 1__\n",
    "\n",
    "Объясняемая переменная y зависит от двух категориальных факторов A и B, причём фактор A имеет 3 уровня, а фактор B - 4 уровня. Результаты наблюдений приведены в таблице:\n",
    "\n",
    "y = [[2.68, 3.29, 2.88, 4.45],\n",
    "     [4.12, 4.96, 5.09, 5.22],\n",
    "     [5.52, 4.50, 5.42, 5.29]]\n",
    "С помощью двухфакторного дисперсионного анализа проверьте влияние каждого из факторов на переменную y."
   ]
  },
  {
   "cell_type": "code",
   "execution_count": 2,
   "metadata": {},
   "outputs": [],
   "source": [
    "import numpy as np"
   ]
  },
  {
   "cell_type": "code",
   "execution_count": 3,
   "metadata": {},
   "outputs": [],
   "source": [
    "y = np.array([[2.68, 3.29, 2.88, 4.45], [4.12, 4.96, 5.09, 5.22], [5.52, 4.50, 5.42, 5.29]])\n",
    "m = 3\n",
    "k = 4"
   ]
  },
  {
   "cell_type": "code",
   "execution_count": 5,
   "metadata": {},
   "outputs": [
    {
     "data": {
      "text/plain": [
       "array([[2.68, 3.29, 2.88, 4.45],\n",
       "       [4.12, 4.96, 5.09, 5.22],\n",
       "       [5.52, 4.5 , 5.42, 5.29]])"
      ]
     },
     "execution_count": 5,
     "metadata": {},
     "output_type": "execute_result"
    }
   ],
   "source": [
    "y"
   ]
  },
  {
   "cell_type": "code",
   "execution_count": 6,
   "metadata": {},
   "outputs": [
    {
     "data": {
      "text/plain": [
       "array([2.68, 4.12, 5.52])"
      ]
     },
     "execution_count": 6,
     "metadata": {},
     "output_type": "execute_result"
    }
   ],
   "source": [
    "y[:,0]"
   ]
  },
  {
   "cell_type": "markdown",
   "metadata": {},
   "source": [
    "  найдем выборочные средние по каждой строке - фактор А"
   ]
  },
  {
   "cell_type": "code",
   "execution_count": 7,
   "metadata": {},
   "outputs": [
    {
     "data": {
      "text/plain": [
       "array([3.325 , 4.8475, 5.1825])"
      ]
     },
     "execution_count": 7,
     "metadata": {},
     "output_type": "execute_result"
    }
   ],
   "source": [
    "A1 = y[0:1]\n",
    "A2 = y[1:2]\n",
    "A3 = y[2:3]\n",
    "A1_mean = y[0:1].mean()\n",
    "A2_mean = y[1:2].mean()\n",
    "A3_mean = y[2:3].mean()\n",
    "\n",
    "A = np.array([A1_mean, A2_mean, A3_mean])\n",
    "A"
   ]
  },
  {
   "cell_type": "markdown",
   "metadata": {},
   "source": [
    "__Найдем общее среднее__"
   ]
  },
  {
   "cell_type": "code",
   "execution_count": 8,
   "metadata": {},
   "outputs": [
    {
     "data": {
      "text/plain": [
       "4.451666666666666"
      ]
     },
     "execution_count": 8,
     "metadata": {},
     "output_type": "execute_result"
    }
   ],
   "source": [
    "y_mean = y.mean()\n",
    "y_mean "
   ]
  },
  {
   "cell_type": "markdown",
   "metadata": {},
   "source": [
    "Найдем значение $SS_a$:"
   ]
  },
  {
   "cell_type": "code",
   "execution_count": 9,
   "metadata": {},
   "outputs": [
    {
     "data": {
      "text/plain": [
       "7.8407166666666654"
      ]
     },
     "execution_count": 9,
     "metadata": {},
     "output_type": "execute_result"
    }
   ],
   "source": [
    "SS_a = k * ( (A1_mean - y_mean) ** 2 + (A2_mean - y_mean) ** 2 + (A3_mean - y_mean) ** 2)\n",
    "SS_a "
   ]
  },
  {
   "cell_type": "markdown",
   "metadata": {},
   "source": [
    "__найдем выборочные средние по каждому столбцу- фактор B__"
   ]
  },
  {
   "cell_type": "code",
   "execution_count": 10,
   "metadata": {},
   "outputs": [
    {
     "data": {
      "text/plain": [
       "array([4.10666667, 4.25      , 4.46333333, 4.98666667])"
      ]
     },
     "execution_count": 10,
     "metadata": {},
     "output_type": "execute_result"
    }
   ],
   "source": [
    "B1 = y[0:,0]\n",
    "B2 = y[0:,1]\n",
    "B3 = y[0:,2]\n",
    "B4 = y[0:,3]\n",
    "\n",
    "B1_mean = y[0:,0].mean()\n",
    "B2_mean = y[0:,1].mean()\n",
    "B3_mean = y[0:,2].mean()\n",
    "B4_mean = y[0:,3].mean()\n",
    "\n",
    "B1_mean, B2_mean, B3_mean, B4_mean\n",
    "B = np.array([B1_mean, B2_mean, B3_mean, B4_mean])\n",
    "B"
   ]
  },
  {
   "cell_type": "markdown",
   "metadata": {},
   "source": [
    "Найдем значение $SS_b$:"
   ]
  },
  {
   "cell_type": "code",
   "execution_count": 11,
   "metadata": {},
   "outputs": [
    {
     "data": {
      "text/plain": [
       "1.338166666666669"
      ]
     },
     "execution_count": 11,
     "metadata": {},
     "output_type": "execute_result"
    }
   ],
   "source": [
    "SS_b = m * ( (B1_mean - y_mean) ** 2 + (B2_mean - y_mean) ** 2 + (B3_mean - y_mean) ** 2 + (B4_mean - y_mean) ** 2 )\n",
    "SS_b "
   ]
  },
  {
   "cell_type": "markdown",
   "metadata": {},
   "source": [
    "Найдем значение  $SS_w$:"
   ]
  },
  {
   "cell_type": "code",
   "execution_count": 12,
   "metadata": {},
   "outputs": [
    {
     "data": {
      "text/plain": [
       "1.9298833333333332"
      ]
     },
     "execution_count": 12,
     "metadata": {},
     "output_type": "execute_result"
    }
   ],
   "source": [
    "SS_w = ((A1 - A1_mean - B + y_mean) ** 2).sum() + ((A2 - A2_mean - B + y_mean) ** 2).sum() + ((A3 - A3_mean - B + y_mean) ** 2).sum()\n",
    "     \n",
    "SS_w       "
   ]
  },
  {
   "cell_type": "markdown",
   "metadata": {},
   "source": [
    "__Оценки дисперсий__\n",
    "\n",
    "$$\\sigma_a^2 = \\dfrac{SS_a}{m - 1}, \\sigma_b^2 = \\dfrac{SS_b}{k - 1}, \\:\\: \\sigma_w^2 = \\dfrac{SS_w}{k - 1}{m - 1} $$"
   ]
  },
  {
   "cell_type": "code",
   "execution_count": 14,
   "metadata": {},
   "outputs": [
    {
     "data": {
      "text/plain": [
       "(3.9203583333333327, 0.4460555555555563, 0.3216472222222222)"
      ]
     },
     "execution_count": 14,
     "metadata": {},
     "output_type": "execute_result"
    }
   ],
   "source": [
    "sigma_a2 = SS_a / (m - 1)\n",
    "\n",
    "sigma_b2 = SS_b / (k - 1)\n",
    "\n",
    "sigma_w2 = SS_w / ((m - 1) * (k - 1))\n",
    "\n",
    "sigma_a2, sigma_b2, sigma_w2"
   ]
  },
  {
   "cell_type": "markdown",
   "metadata": {},
   "source": [
    "Итак, статистика для проверки гипотезы $H_0$:\n",
    "$$F_a = \\dfrac{\\sigma_a^2}{\\sigma_w^2}$$,     $$F_b = \\dfrac{\\sigma_b^2}{\\sigma_w^2}$$\n",
    "\n",
    "В предположении верности гипотезы $H_0$ статистика $F$ имеет распределение Фишера с параметрами $k1a = m − 1$, $k2a = n − m$, где n = m · k — общее число элементов в выборке.\n",
    "Критическая область здесь правосторонняя:\n",
    "$$\\Omega_\\alpha = \\left( t_{1 - \\alpha, \\: k_1, k_2}, \\infty \\right),$$\n",
    "где $t_{\\beta, \\: k_1, k_2}$ — квантиль порядка $\\beta$ для распределения Фишера с параметрами $k_1$, $k_2$."
   ]
  },
  {
   "cell_type": "markdown",
   "metadata": {},
   "source": [
    "__Значение статистики  𝐹_a__:"
   ]
  },
  {
   "cell_type": "code",
   "execution_count": 16,
   "metadata": {},
   "outputs": [
    {
     "data": {
      "text/plain": [
       "12.188379262995172"
      ]
     },
     "execution_count": 16,
     "metadata": {},
     "output_type": "execute_result"
    }
   ],
   "source": [
    "F_a = sigma_a2 / sigma_w2\n",
    "F_a"
   ]
  },
  {
   "cell_type": "markdown",
   "metadata": {},
   "source": [
    "__Значение статистики  𝐹_b__:"
   ]
  },
  {
   "cell_type": "code",
   "execution_count": 17,
   "metadata": {},
   "outputs": [
    {
     "data": {
      "text/plain": [
       "1.3867850388192748"
      ]
     },
     "execution_count": 17,
     "metadata": {},
     "output_type": "execute_result"
    }
   ],
   "source": [
    "F_b = sigma_b2 / sigma_w2\n",
    "F_b"
   ]
  },
  {
   "cell_type": "markdown",
   "metadata": {},
   "source": [
    "Зафиксируем уровень значимости  𝛼=0.05 . Для него найдём нужный нам квантиль:"
   ]
  },
  {
   "cell_type": "code",
   "execution_count": 19,
   "metadata": {},
   "outputs": [],
   "source": [
    "from scipy import stats"
   ]
  },
  {
   "cell_type": "code",
   "execution_count": 22,
   "metadata": {},
   "outputs": [
    {
     "data": {
      "text/plain": [
       "4.25649472909375"
      ]
     },
     "execution_count": 22,
     "metadata": {},
     "output_type": "execute_result"
    }
   ],
   "source": [
    "n = k*m\n",
    "k1a = m - 1\n",
    "k2a = n - m\n",
    "\n",
    "alpha = 0.05\n",
    "\n",
    "t_a = stats.f.ppf(1 - alpha, k1a, k2a)\n",
    "t_a"
   ]
  },
  {
   "cell_type": "code",
   "execution_count": 23,
   "metadata": {},
   "outputs": [
    {
     "data": {
      "text/plain": [
       "4.06618055135116"
      ]
     },
     "execution_count": 23,
     "metadata": {},
     "output_type": "execute_result"
    }
   ],
   "source": [
    "n = k*m\n",
    "k1b = k - 1\n",
    "k2b = n - k\n",
    "\n",
    "alpha = 0.05\n",
    "\n",
    "t_b = stats.f.ppf(1 - alpha, k1b, k2b)\n",
    "t_b"
   ]
  },
  {
   "cell_type": "code",
   "execution_count": 25,
   "metadata": {},
   "outputs": [],
   "source": [
    "from matplotlib import pyplot as plt\n",
    "plt.style.use('seaborn-whitegrid')"
   ]
  },
  {
   "cell_type": "code",
   "execution_count": 27,
   "metadata": {},
   "outputs": [
    {
     "data": {
      "text/plain": [
       "<matplotlib.collections.PolyCollection at 0x223d7d061c8>"
      ]
     },
     "execution_count": 27,
     "metadata": {},
     "output_type": "execute_result"
    },
    {
     "data": {
      "image/png": "[encoded data removed]",
      "text/plain": [
       "<Figure size 432x288 with 1 Axes>"
      ]
     },
     "metadata": {},
     "output_type": "display_data"
    }
   ],
   "source": [
    "ox = np.linspace(0, 6, 500)\n",
    "oy = stats.f.pdf(ox, k1a, k2a)\n",
    "\n",
    "ox_right = np.linspace(t_a, 6, 100)\n",
    "oy_right = stats.f.pdf(ox_right, k1a, k2a)\n",
    "\n",
    "plt.plot(ox, oy)\n",
    "plt.fill_between(ox_right, oy_right, alpha=0.5)"
   ]
  },
  {
   "cell_type": "markdown",
   "metadata": {},
   "source": [
    "__Вывод:__ \n",
    "Так как значение статистики F_a = 12,18 больше чем t_a = 4.25 - попадает в критическую область, то гипотиза H0a об отсутствии влиянии фактора А, отклоняется."
   ]
  },
  {
   "cell_type": "code",
   "execution_count": 34,
   "metadata": {},
   "outputs": [
    {
     "data": {
      "text/plain": [
       "<matplotlib.collections.PolyCollection at 0x223d7f23f08>"
      ]
     },
     "execution_count": 34,
     "metadata": {},
     "output_type": "execute_result"
    },
    {
     "data": {
      "image/png": "[encoded data removed]",
      "text/plain": [
       "<Figure size 432x288 with 1 Axes>"
      ]
     },
     "metadata": {},
     "output_type": "display_data"
    }
   ],
   "source": [
    "ox = np.linspace(0, 6, 500)\n",
    "oy = stats.f.pdf(ox, k1b, k2b)\n",
    "\n",
    "ox_right = np.linspace(t_b, 6, 100)\n",
    "oy_right = stats.f.pdf(ox_right, k1b, k2b)\n",
    "\n",
    "plt.plot(ox, oy)\n",
    "plt.fill_between(ox_right, oy_right, alpha=0.5)"
   ]
  },
  {
   "cell_type": "markdown",
   "metadata": {},
   "source": [
    "__Вывод:__ Так как значение статистики F_b = 1.38 меньше чем t_a = 4.06 - не попадает в критическую область, то гипотиза H0b об отсутствии влиянии фактора B, подтверждается."
   ]
  },
  {
   "cell_type": "markdown",
   "metadata": {},
   "source": [
    "__Задача 2 в процессе__"
   ]
  }
 ],
 "metadata": {
  "kernelspec": {
   "display_name": "Python 3",
   "language": "python",
   "name": "python3"
  },
  "language_info": {
   "codemirror_mode": {
    "name": "ipython",
    "version": 3
   },
   "file_extension": ".py",
   "mimetype": "text/x-python",
   "name": "python",
   "nbconvert_exporter": "python",
   "pygments_lexer": "ipython3",
   "version": "3.7.6"
  }
 },
 "nbformat": 4,
 "nbformat_minor": 4
}
